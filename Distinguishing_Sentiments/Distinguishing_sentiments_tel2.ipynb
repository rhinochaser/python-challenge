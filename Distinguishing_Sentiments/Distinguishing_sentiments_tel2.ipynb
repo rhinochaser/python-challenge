{
 "cells": [
  {
   "cell_type": "code",
   "execution_count": 1,
   "metadata": {
    "collapsed": true
   },
   "outputs": [],
   "source": [
    "import numpy as np\n",
    "import pandas as pd\n",
    "import tweepy\n",
    "from  datetime import datetime\n",
    "import json\n",
    "import matplotlib.pyplot as plt\n",
    "import seaborn as sns\n",
    "from vaderSentiment.vaderSentiment import SentimentIntensityAnalyzer\n",
    "analyzer = SentimentIntensityAnalyzer()"
   ]
  },
  {
   "cell_type": "code",
   "execution_count": 2,
   "metadata": {
    "collapsed": true
   },
   "outputs": [],
   "source": [
    "# Twitter API Keys: Enter your own API Keys....\n",
    "consumer_key = ''\n",
    "consumer_secret = ''\n",
    "access_token = ''\n",
    "access_token_secret = ''"
   ]
  },
  {
   "cell_type": "code",
   "execution_count": 3,
   "metadata": {
    "collapsed": true
   },
   "outputs": [],
   "source": [
    "# Setup Tweepy API Authentication\n",
    "auth = tweepy.OAuthHandler(consumer_key, consumer_secret)\n",
    "auth.set_access_token(access_token, access_token_secret)\n",
    "api = tweepy.API(auth, parser=tweepy.parsers.JSONParser())"
   ]
  },
  {
   "cell_type": "code",
   "execution_count": 4,
   "metadata": {
    "collapsed": true
   },
   "outputs": [],
   "source": [
    "target_user = (\"BBCNews\", \"CBSNews\", \"CNN\", \"FoxNews\", \"nytimes\")"
   ]
  },
  {
   "cell_type": "code",
   "execution_count": 5,
   "metadata": {
    "collapsed": true
   },
   "outputs": [],
   "source": [
    "# Variables for holding sentiments\n",
    "sentiments = []\n",
    "\n",
    "    \n",
    "compound_list = []\n",
    "positive_list = []\n",
    "negative_list = []\n",
    "neutral_list = []"
   ]
  },
  {
   "cell_type": "code",
   "execution_count": null,
   "metadata": {
    "collapsed": true
   },
   "outputs": [],
   "source": [
    "\n",
    "    "
   ]
  },
  {
   "cell_type": "code",
   "execution_count": null,
   "metadata": {
    "collapsed": true
   },
   "outputs": [],
   "source": []
  },
  {
   "cell_type": "code",
   "execution_count": 6,
   "metadata": {
    "collapsed": true
   },
   "outputs": [],
   "source": [
    "# Loop through each user\n",
    "for user in target_user:\n",
    "    \n",
    "    #counter to be used for tweets ago count\n",
    "    counter = 1\n",
    "\n",
    "\n",
    "    # Loop through 5 pages of tweets (total 100 tweets)\n",
    "    for x in range(5):\n",
    "\n",
    "        # Get all tweets from home feed\n",
    "        public_tweets = api.user_timeline(user, page=x)\n",
    "        \n",
    "        # Loop through all tweets\n",
    "        for tweet in public_tweets:\n",
    "\n",
    "            # Run Vader Analysis on each tweet\n",
    "            compound = analyzer.polarity_scores(tweet[\"text\"])[\"compound\"]\n",
    "            pos = analyzer.polarity_scores(tweet[\"text\"])[\"pos\"]\n",
    "            neu = analyzer.polarity_scores(tweet[\"text\"])[\"neu\"]\n",
    "            neg = analyzer.polarity_scores(tweet[\"text\"])[\"neg\"]\n",
    "        \n",
    "            # Add each value to the appropriate array\n",
    "            compound_list.append(compound)\n",
    "            positive_list.append(pos)\n",
    "            negative_list.append(neg)\n",
    "            neutral_list.append(neu)\n",
    "            \n",
    "            # Build a sentiments dict\n",
    "            sentiments_dict = {\"User\": tweet[\"user\"][\"screen_name\"],\n",
    "                          \"Date\": tweet[\"created_at\"], \n",
    "                          \"Compound\": compound,\n",
    "                          \"Positive\": pos,\n",
    "                          \"Negative\": neg,\n",
    "                          \"Neutral\": neu,\n",
    "                          \"Tweets Ago\": counter,\n",
    "                          \"Tweet Text\": tweet[\"text\"]}\n",
    "        \n",
    "            # Add to counter \n",
    "            counter = counter + 1\n",
    "            \n",
    "            # append sentiments dict to array\n",
    "            sentiments.append(sentiments_dict)\n",
    "            \n",
    "    "
   ]
  },
  {
   "cell_type": "code",
   "execution_count": 7,
   "metadata": {},
   "outputs": [
    {
     "data": {
      "text/plain": [
       "500"
      ]
     },
     "execution_count": 7,
     "metadata": {},
     "output_type": "execute_result"
    }
   ],
   "source": [
    "len(sentiments)"
   ]
  },
  {
   "cell_type": "code",
   "execution_count": null,
   "metadata": {
    "collapsed": true
   },
   "outputs": [],
   "source": []
  },
  {
   "cell_type": "code",
   "execution_count": 8,
   "metadata": {},
   "outputs": [
    {
     "data": {
      "text/html": [
       "<div>\n",
       "<style>\n",
       "    .dataframe thead tr:only-child th {\n",
       "        text-align: right;\n",
       "    }\n",
       "\n",
       "    .dataframe thead th {\n",
       "        text-align: left;\n",
       "    }\n",
       "\n",
       "    .dataframe tbody tr th {\n",
       "        vertical-align: top;\n",
       "    }\n",
       "</style>\n",
       "<table border=\"1\" class=\"dataframe\">\n",
       "  <thead>\n",
       "    <tr style=\"text-align: right;\">\n",
       "      <th></th>\n",
       "      <th>User</th>\n",
       "      <th>Tweets Ago</th>\n",
       "      <th>Date</th>\n",
       "      <th>Compound</th>\n",
       "      <th>Positive</th>\n",
       "      <th>Negative</th>\n",
       "      <th>Neutral</th>\n",
       "      <th>Tweet Text</th>\n",
       "    </tr>\n",
       "  </thead>\n",
       "  <tbody>\n",
       "    <tr>\n",
       "      <th>0</th>\n",
       "      <td>BBCNews</td>\n",
       "      <td>1</td>\n",
       "      <td>Sat Nov 04 18:26:27 +0000 2017</td>\n",
       "      <td>-0.6908</td>\n",
       "      <td>0.00</td>\n",
       "      <td>0.416</td>\n",
       "      <td>0.584</td>\n",
       "      <td>Man charged over death of Chloe Miazek in Aber...</td>\n",
       "    </tr>\n",
       "    <tr>\n",
       "      <th>1</th>\n",
       "      <td>BBCNews</td>\n",
       "      <td>2</td>\n",
       "      <td>Sat Nov 04 17:57:34 +0000 2017</td>\n",
       "      <td>0.2500</td>\n",
       "      <td>0.20</td>\n",
       "      <td>0.000</td>\n",
       "      <td>0.800</td>\n",
       "      <td>Widower's bid to fulfil Hereford sweetheart's ...</td>\n",
       "    </tr>\n",
       "    <tr>\n",
       "      <th>2</th>\n",
       "      <td>BBCNews</td>\n",
       "      <td>3</td>\n",
       "      <td>Sat Nov 04 17:56:40 +0000 2017</td>\n",
       "      <td>0.0000</td>\n",
       "      <td>0.00</td>\n",
       "      <td>0.000</td>\n",
       "      <td>1.000</td>\n",
       "      <td>RT @BBCSport: GOAL! West Ham 0-2 Liverpool\\n\\n...</td>\n",
       "    </tr>\n",
       "    <tr>\n",
       "      <th>3</th>\n",
       "      <td>BBCNews</td>\n",
       "      <td>4</td>\n",
       "      <td>Sat Nov 04 17:19:22 +0000 2017</td>\n",
       "      <td>0.0000</td>\n",
       "      <td>0.00</td>\n",
       "      <td>0.000</td>\n",
       "      <td>1.000</td>\n",
       "      <td>Trump pitches for $2 trillion Saudi Aramco oil...</td>\n",
       "    </tr>\n",
       "    <tr>\n",
       "      <th>4</th>\n",
       "      <td>BBCNews</td>\n",
       "      <td>5</td>\n",
       "      <td>Sat Nov 04 16:58:52 +0000 2017</td>\n",
       "      <td>-0.3802</td>\n",
       "      <td>0.13</td>\n",
       "      <td>0.239</td>\n",
       "      <td>0.630</td>\n",
       "      <td>RT @BBCSport: There are some shocks around!\\n\\...</td>\n",
       "    </tr>\n",
       "  </tbody>\n",
       "</table>\n",
       "</div>"
      ],
      "text/plain": [
       "      User  Tweets Ago                            Date  Compound  Positive  \\\n",
       "0  BBCNews           1  Sat Nov 04 18:26:27 +0000 2017   -0.6908      0.00   \n",
       "1  BBCNews           2  Sat Nov 04 17:57:34 +0000 2017    0.2500      0.20   \n",
       "2  BBCNews           3  Sat Nov 04 17:56:40 +0000 2017    0.0000      0.00   \n",
       "3  BBCNews           4  Sat Nov 04 17:19:22 +0000 2017    0.0000      0.00   \n",
       "4  BBCNews           5  Sat Nov 04 16:58:52 +0000 2017   -0.3802      0.13   \n",
       "\n",
       "   Negative  Neutral                                         Tweet Text  \n",
       "0     0.416    0.584  Man charged over death of Chloe Miazek in Aber...  \n",
       "1     0.000    0.800  Widower's bid to fulfil Hereford sweetheart's ...  \n",
       "2     0.000    1.000  RT @BBCSport: GOAL! West Ham 0-2 Liverpool\\n\\n...  \n",
       "3     0.000    1.000  Trump pitches for $2 trillion Saudi Aramco oil...  \n",
       "4     0.239    0.630  RT @BBCSport: There are some shocks around!\\n\\...  "
      ]
     },
     "execution_count": 8,
     "metadata": {},
     "output_type": "execute_result"
    }
   ],
   "source": [
    "sentiments_df = pd.DataFrame(sentiments)\n",
    "sentiments_df = sentiments_df[[\"User\", \"Tweets Ago\", \"Date\", \"Compound\", \"Positive\", \"Negative\", \"Neutral\", \"Tweet Text\"]]\n",
    "sentiments_df.head()"
   ]
  },
  {
   "cell_type": "code",
   "execution_count": 9,
   "metadata": {
    "collapsed": true
   },
   "outputs": [],
   "source": [
    "sentiments_df.to_csv(\"twitter_sentiments.csv\", index= False, header= True )"
   ]
  },
  {
   "cell_type": "code",
   "execution_count": 10,
   "metadata": {
    "collapsed": true
   },
   "outputs": [],
   "source": [
    "bbcNews_df = sentiments_df.loc[sentiments_df[\"User\"]==\"BBCNews\"]\n",
    "bbcNews_scat = plt.scatter(range(len(bbcNews_df[\"Tweets Ago\"])), bbcNews_df[\"Compound\"], marker=\"o\", facecolor=\"skyblue\", edgecolors=\"black\", label=\"BBCNews\", alpha=0.8,)"
   ]
  },
  {
   "cell_type": "code",
   "execution_count": 11,
   "metadata": {
    "collapsed": true
   },
   "outputs": [],
   "source": [
    "CBSNews_df = sentiments_df.loc[sentiments_df[\"User\"]==\"CBSNews\"]\n",
    "CBSNews_scat = plt.scatter(range(len(CBSNews_df[\"Tweets Ago\"])), CBSNews_df[\"Compound\"], marker=\"o\", facecolor=\"green\", edgecolors=\"black\", label=\"CBSNews\", alpha=0.8,)"
   ]
  },
  {
   "cell_type": "code",
   "execution_count": 12,
   "metadata": {
    "collapsed": true
   },
   "outputs": [],
   "source": [
    "CNN_df = sentiments_df.loc[sentiments_df[\"User\"]==\"CNN\"]\n",
    "CNN_scat = plt.scatter(range(len(CNN_df[\"Tweets Ago\"])), CNN_df[\"Compound\"], marker=\"o\", facecolor=\"red\", edgecolors=\"black\", label=\"CNN\", alpha=0.8,)"
   ]
  },
  {
   "cell_type": "code",
   "execution_count": 13,
   "metadata": {
    "collapsed": true
   },
   "outputs": [],
   "source": [
    "FoxNews_df = sentiments_df.loc[sentiments_df[\"User\"]==\"FoxNews\"]\n",
    "FoxNews_scat = plt.scatter(range(len(FoxNews_df[\"Tweets Ago\"])), FoxNews_df[\"Compound\"], marker=\"o\", facecolor=\"blue\", edgecolors=\"black\", label=\"FoxNews\", alpha=0.8,)"
   ]
  },
  {
   "cell_type": "code",
   "execution_count": 14,
   "metadata": {
    "collapsed": true
   },
   "outputs": [],
   "source": [
    "nytimes_df = sentiments_df.loc[sentiments_df[\"User\"]==\"nytimes\"]\n",
    "nytimes_scat = plt.scatter(range(len(nytimes_df[\"Tweets Ago\"])), nytimes_df[\"Compound\"], marker=\"o\", facecolor=\"yellow\", edgecolors=\"black\", label=\"NYTimes\", alpha=0.8,)"
   ]
  },
  {
   "cell_type": "code",
   "execution_count": 15,
   "metadata": {},
   "outputs": [
    {
     "data": {
      "text/plain": [
       "(-1, 1)"
      ]
     },
     "execution_count": 15,
     "metadata": {},
     "output_type": "execute_result"
    }
   ],
   "source": [
    "plt.ylim(-1, 1)"
   ]
  },
  {
   "cell_type": "code",
   "execution_count": 16,
   "metadata": {},
   "outputs": [
    {
     "data": {
      "text/plain": [
       "(100, 0)"
      ]
     },
     "execution_count": 16,
     "metadata": {},
     "output_type": "execute_result"
    }
   ],
   "source": [
    "plt.xlim(100, 0)"
   ]
  },
  {
   "cell_type": "code",
   "execution_count": 17,
   "metadata": {
    "collapsed": true
   },
   "outputs": [],
   "source": [
    "# Plot Time Between Tweets\n",
    "\n",
    "plt.title(\"Sentiment Analysis of Media Tweets\")\n",
    "plt.ylabel(\"Tweet Polarity\")\n",
    "plt.xlabel(\"Tweets ago\")\n",
    "plt.grid(True)\n"
   ]
  },
  {
   "cell_type": "code",
   "execution_count": 18,
   "metadata": {},
   "outputs": [
    {
     "data": {
      "text/plain": [
       "<matplotlib.legend.Legend at 0x11c6877f0>"
      ]
     },
     "execution_count": 18,
     "metadata": {},
     "output_type": "execute_result"
    }
   ],
   "source": [
    "#legend\n",
    "plt.legend(handles = [bbcNews_scat, CBSNews_scat, CNN_scat, FoxNews_scat, nytimes_scat], bbox_to_anchor=(1, 0.8))"
   ]
  },
  {
   "cell_type": "code",
   "execution_count": 19,
   "metadata": {},
   "outputs": [
    {
     "data": {
      "image/png": "[encoded data removed]",
      "text/plain": [
       "<matplotlib.figure.Figure at 0x11c6870b8>"
      ]
     },
     "metadata": {},
     "output_type": "display_data"
    }
   ],
   "source": [
    "plt.savefig('sentiment_analysis_of_media_tweets.png')\n",
    "plt.show()"
   ]
  },
  {
   "cell_type": "code",
   "execution_count": 20,
   "metadata": {},
   "outputs": [
    {
     "data": {
      "text/html": [
       "<div>\n",
       "<style>\n",
       "    .dataframe thead tr:only-child th {\n",
       "        text-align: right;\n",
       "    }\n",
       "\n",
       "    .dataframe thead th {\n",
       "        text-align: left;\n",
       "    }\n",
       "\n",
       "    .dataframe tbody tr th {\n",
       "        vertical-align: top;\n",
       "    }\n",
       "</style>\n",
       "<table border=\"1\" class=\"dataframe\">\n",
       "  <thead>\n",
       "    <tr style=\"text-align: right;\">\n",
       "      <th></th>\n",
       "      <th>User</th>\n",
       "      <th>Tweets Ago</th>\n",
       "      <th>Date</th>\n",
       "      <th>Compound</th>\n",
       "      <th>Positive</th>\n",
       "      <th>Negative</th>\n",
       "      <th>Neutral</th>\n",
       "      <th>Tweet Text</th>\n",
       "    </tr>\n",
       "  </thead>\n",
       "  <tbody>\n",
       "    <tr>\n",
       "      <th>0</th>\n",
       "      <td>BBCNews</td>\n",
       "      <td>1</td>\n",
       "      <td>Sat Nov 04 18:26:27 +0000 2017</td>\n",
       "      <td>-0.6908</td>\n",
       "      <td>0.000</td>\n",
       "      <td>0.416</td>\n",
       "      <td>0.584</td>\n",
       "      <td>Man charged over death of Chloe Miazek in Aber...</td>\n",
       "    </tr>\n",
       "    <tr>\n",
       "      <th>1</th>\n",
       "      <td>BBCNews</td>\n",
       "      <td>2</td>\n",
       "      <td>Sat Nov 04 17:57:34 +0000 2017</td>\n",
       "      <td>0.2500</td>\n",
       "      <td>0.200</td>\n",
       "      <td>0.000</td>\n",
       "      <td>0.800</td>\n",
       "      <td>Widower's bid to fulfil Hereford sweetheart's ...</td>\n",
       "    </tr>\n",
       "    <tr>\n",
       "      <th>2</th>\n",
       "      <td>BBCNews</td>\n",
       "      <td>3</td>\n",
       "      <td>Sat Nov 04 17:56:40 +0000 2017</td>\n",
       "      <td>0.0000</td>\n",
       "      <td>0.000</td>\n",
       "      <td>0.000</td>\n",
       "      <td>1.000</td>\n",
       "      <td>RT @BBCSport: GOAL! West Ham 0-2 Liverpool\\n\\n...</td>\n",
       "    </tr>\n",
       "    <tr>\n",
       "      <th>3</th>\n",
       "      <td>BBCNews</td>\n",
       "      <td>4</td>\n",
       "      <td>Sat Nov 04 17:19:22 +0000 2017</td>\n",
       "      <td>0.0000</td>\n",
       "      <td>0.000</td>\n",
       "      <td>0.000</td>\n",
       "      <td>1.000</td>\n",
       "      <td>Trump pitches for $2 trillion Saudi Aramco oil...</td>\n",
       "    </tr>\n",
       "    <tr>\n",
       "      <th>4</th>\n",
       "      <td>BBCNews</td>\n",
       "      <td>5</td>\n",
       "      <td>Sat Nov 04 16:58:52 +0000 2017</td>\n",
       "      <td>-0.3802</td>\n",
       "      <td>0.130</td>\n",
       "      <td>0.239</td>\n",
       "      <td>0.630</td>\n",
       "      <td>RT @BBCSport: There are some shocks around!\\n\\...</td>\n",
       "    </tr>\n",
       "    <tr>\n",
       "      <th>100</th>\n",
       "      <td>CBSNews</td>\n",
       "      <td>1</td>\n",
       "      <td>Sat Nov 04 18:20:01 +0000 2017</td>\n",
       "      <td>-0.5994</td>\n",
       "      <td>0.000</td>\n",
       "      <td>0.218</td>\n",
       "      <td>0.782</td>\n",
       "      <td>Police are investigating the death of a Florid...</td>\n",
       "    </tr>\n",
       "    <tr>\n",
       "      <th>101</th>\n",
       "      <td>CBSNews</td>\n",
       "      <td>2</td>\n",
       "      <td>Sat Nov 04 18:00:02 +0000 2017</td>\n",
       "      <td>0.0000</td>\n",
       "      <td>0.000</td>\n",
       "      <td>0.000</td>\n",
       "      <td>1.000</td>\n",
       "      <td>Flights &amp;amp; views that were once impossible ...</td>\n",
       "    </tr>\n",
       "    <tr>\n",
       "      <th>102</th>\n",
       "      <td>CBSNews</td>\n",
       "      <td>3</td>\n",
       "      <td>Sat Nov 04 17:40:01 +0000 2017</td>\n",
       "      <td>0.0000</td>\n",
       "      <td>0.000</td>\n",
       "      <td>0.000</td>\n",
       "      <td>1.000</td>\n",
       "      <td>Hundreds of pieces of art are on display from ...</td>\n",
       "    </tr>\n",
       "    <tr>\n",
       "      <th>103</th>\n",
       "      <td>CBSNews</td>\n",
       "      <td>4</td>\n",
       "      <td>Sat Nov 04 17:20:02 +0000 2017</td>\n",
       "      <td>-0.7096</td>\n",
       "      <td>0.000</td>\n",
       "      <td>0.258</td>\n",
       "      <td>0.742</td>\n",
       "      <td>Las Vegas shooter Stephen Paddock had been dep...</td>\n",
       "    </tr>\n",
       "    <tr>\n",
       "      <th>104</th>\n",
       "      <td>CBSNews</td>\n",
       "      <td>5</td>\n",
       "      <td>Sat Nov 04 17:18:13 +0000 2017</td>\n",
       "      <td>0.0000</td>\n",
       "      <td>0.000</td>\n",
       "      <td>0.000</td>\n",
       "      <td>1.000</td>\n",
       "      <td>WATCH: President Trump boards Air Force One as...</td>\n",
       "    </tr>\n",
       "    <tr>\n",
       "      <th>200</th>\n",
       "      <td>CNN</td>\n",
       "      <td>1</td>\n",
       "      <td>Sat Nov 04 18:36:12 +0000 2017</td>\n",
       "      <td>-0.0516</td>\n",
       "      <td>0.000</td>\n",
       "      <td>0.091</td>\n",
       "      <td>0.909</td>\n",
       "      <td>State Department asks US citizens to leave Som...</td>\n",
       "    </tr>\n",
       "    <tr>\n",
       "      <th>201</th>\n",
       "      <td>CNN</td>\n",
       "      <td>2</td>\n",
       "      <td>Sat Nov 04 18:20:13 +0000 2017</td>\n",
       "      <td>-0.3818</td>\n",
       "      <td>0.000</td>\n",
       "      <td>0.140</td>\n",
       "      <td>0.860</td>\n",
       "      <td>An undocumented special-needs girl who was in ...</td>\n",
       "    </tr>\n",
       "    <tr>\n",
       "      <th>202</th>\n",
       "      <td>CNN</td>\n",
       "      <td>3</td>\n",
       "      <td>Sat Nov 04 18:08:41 +0000 2017</td>\n",
       "      <td>-0.8658</td>\n",
       "      <td>0.000</td>\n",
       "      <td>0.363</td>\n",
       "      <td>0.637</td>\n",
       "      <td>American woman in Zimbabwe sent to prison afte...</td>\n",
       "    </tr>\n",
       "    <tr>\n",
       "      <th>203</th>\n",
       "      <td>CNN</td>\n",
       "      <td>4</td>\n",
       "      <td>Sat Nov 04 17:54:45 +0000 2017</td>\n",
       "      <td>0.5719</td>\n",
       "      <td>0.222</td>\n",
       "      <td>0.000</td>\n",
       "      <td>0.778</td>\n",
       "      <td>Could Bernie Sanders have won a primary that w...</td>\n",
       "    </tr>\n",
       "    <tr>\n",
       "      <th>204</th>\n",
       "      <td>CNN</td>\n",
       "      <td>5</td>\n",
       "      <td>Sat Nov 04 17:40:50 +0000 2017</td>\n",
       "      <td>0.0000</td>\n",
       "      <td>0.000</td>\n",
       "      <td>0.000</td>\n",
       "      <td>1.000</td>\n",
       "      <td>A 1975 CIA memo concluded that allegations Lee...</td>\n",
       "    </tr>\n",
       "    <tr>\n",
       "      <th>300</th>\n",
       "      <td>FoxNews</td>\n",
       "      <td>1</td>\n",
       "      <td>Sat Nov 04 18:32:40 +0000 2017</td>\n",
       "      <td>0.0000</td>\n",
       "      <td>0.000</td>\n",
       "      <td>0.000</td>\n",
       "      <td>1.000</td>\n",
       "      <td>.@DanaRohrabacher: \"We have a president now wh...</td>\n",
       "    </tr>\n",
       "    <tr>\n",
       "      <th>301</th>\n",
       "      <td>FoxNews</td>\n",
       "      <td>2</td>\n",
       "      <td>Sat Nov 04 18:25:06 +0000 2017</td>\n",
       "      <td>0.0000</td>\n",
       "      <td>0.000</td>\n",
       "      <td>0.000</td>\n",
       "      <td>1.000</td>\n",
       "      <td>TONIGHT on @GregGutfeldShow, @GregGutfeld talk...</td>\n",
       "    </tr>\n",
       "    <tr>\n",
       "      <th>302</th>\n",
       "      <td>FoxNews</td>\n",
       "      <td>3</td>\n",
       "      <td>Sat Nov 04 18:07:31 +0000 2017</td>\n",
       "      <td>0.5423</td>\n",
       "      <td>0.368</td>\n",
       "      <td>0.000</td>\n",
       "      <td>0.632</td>\n",
       "      <td>Vet Refuses Award From NFL Team\\nhttps://t.co/...</td>\n",
       "    </tr>\n",
       "    <tr>\n",
       "      <th>303</th>\n",
       "      <td>FoxNews</td>\n",
       "      <td>4</td>\n",
       "      <td>Sat Nov 04 18:05:17 +0000 2017</td>\n",
       "      <td>0.0000</td>\n",
       "      <td>0.000</td>\n",
       "      <td>0.000</td>\n",
       "      <td>1.000</td>\n",
       "      <td>.@kevincorke: \"The U.S. has a $51 billion trad...</td>\n",
       "    </tr>\n",
       "    <tr>\n",
       "      <th>304</th>\n",
       "      <td>FoxNews</td>\n",
       "      <td>5</td>\n",
       "      <td>Sat Nov 04 18:04:13 +0000 2017</td>\n",
       "      <td>0.0000</td>\n",
       "      <td>0.000</td>\n",
       "      <td>0.000</td>\n",
       "      <td>1.000</td>\n",
       "      <td>.@POTUS's Asia trip. https://t.co/IUUrn1dw74</td>\n",
       "    </tr>\n",
       "    <tr>\n",
       "      <th>400</th>\n",
       "      <td>nytimes</td>\n",
       "      <td>1</td>\n",
       "      <td>Sat Nov 04 18:31:05 +0000 2017</td>\n",
       "      <td>0.6900</td>\n",
       "      <td>0.269</td>\n",
       "      <td>0.094</td>\n",
       "      <td>0.637</td>\n",
       "      <td>New York City is rich enough and comfortable e...</td>\n",
       "    </tr>\n",
       "    <tr>\n",
       "      <th>401</th>\n",
       "      <td>nytimes</td>\n",
       "      <td>2</td>\n",
       "      <td>Sat Nov 04 18:16:03 +0000 2017</td>\n",
       "      <td>0.3217</td>\n",
       "      <td>0.292</td>\n",
       "      <td>0.236</td>\n",
       "      <td>0.472</td>\n",
       "      <td>Opinion: Truly loving cats means hating yourse...</td>\n",
       "    </tr>\n",
       "    <tr>\n",
       "      <th>402</th>\n",
       "      <td>nytimes</td>\n",
       "      <td>3</td>\n",
       "      <td>Sat Nov 04 18:01:00 +0000 2017</td>\n",
       "      <td>0.5106</td>\n",
       "      <td>0.262</td>\n",
       "      <td>0.160</td>\n",
       "      <td>0.578</td>\n",
       "      <td>House Republicans are proposing a tax on wealt...</td>\n",
       "    </tr>\n",
       "    <tr>\n",
       "      <th>403</th>\n",
       "      <td>nytimes</td>\n",
       "      <td>4</td>\n",
       "      <td>Sat Nov 04 17:46:09 +0000 2017</td>\n",
       "      <td>-0.6249</td>\n",
       "      <td>0.000</td>\n",
       "      <td>0.177</td>\n",
       "      <td>0.823</td>\n",
       "      <td>Detroit is still trying to recover after the 2...</td>\n",
       "    </tr>\n",
       "    <tr>\n",
       "      <th>404</th>\n",
       "      <td>nytimes</td>\n",
       "      <td>5</td>\n",
       "      <td>Sat Nov 04 17:31:05 +0000 2017</td>\n",
       "      <td>0.5719</td>\n",
       "      <td>0.198</td>\n",
       "      <td>0.000</td>\n",
       "      <td>0.802</td>\n",
       "      <td>9 weeks after Hurricane Harvey hit Texas, the ...</td>\n",
       "    </tr>\n",
       "  </tbody>\n",
       "</table>\n",
       "</div>"
      ],
      "text/plain": [
       "        User  Tweets Ago                            Date  Compound  Positive  \\\n",
       "0    BBCNews           1  Sat Nov 04 18:26:27 +0000 2017   -0.6908     0.000   \n",
       "1    BBCNews           2  Sat Nov 04 17:57:34 +0000 2017    0.2500     0.200   \n",
       "2    BBCNews           3  Sat Nov 04 17:56:40 +0000 2017    0.0000     0.000   \n",
       "3    BBCNews           4  Sat Nov 04 17:19:22 +0000 2017    0.0000     0.000   \n",
       "4    BBCNews           5  Sat Nov 04 16:58:52 +0000 2017   -0.3802     0.130   \n",
       "100  CBSNews           1  Sat Nov 04 18:20:01 +0000 2017   -0.5994     0.000   \n",
       "101  CBSNews           2  Sat Nov 04 18:00:02 +0000 2017    0.0000     0.000   \n",
       "102  CBSNews           3  Sat Nov 04 17:40:01 +0000 2017    0.0000     0.000   \n",
       "103  CBSNews           4  Sat Nov 04 17:20:02 +0000 2017   -0.7096     0.000   \n",
       "104  CBSNews           5  Sat Nov 04 17:18:13 +0000 2017    0.0000     0.000   \n",
       "200      CNN           1  Sat Nov 04 18:36:12 +0000 2017   -0.0516     0.000   \n",
       "201      CNN           2  Sat Nov 04 18:20:13 +0000 2017   -0.3818     0.000   \n",
       "202      CNN           3  Sat Nov 04 18:08:41 +0000 2017   -0.8658     0.000   \n",
       "203      CNN           4  Sat Nov 04 17:54:45 +0000 2017    0.5719     0.222   \n",
       "204      CNN           5  Sat Nov 04 17:40:50 +0000 2017    0.0000     0.000   \n",
       "300  FoxNews           1  Sat Nov 04 18:32:40 +0000 2017    0.0000     0.000   \n",
       "301  FoxNews           2  Sat Nov 04 18:25:06 +0000 2017    0.0000     0.000   \n",
       "302  FoxNews           3  Sat Nov 04 18:07:31 +0000 2017    0.5423     0.368   \n",
       "303  FoxNews           4  Sat Nov 04 18:05:17 +0000 2017    0.0000     0.000   \n",
       "304  FoxNews           5  Sat Nov 04 18:04:13 +0000 2017    0.0000     0.000   \n",
       "400  nytimes           1  Sat Nov 04 18:31:05 +0000 2017    0.6900     0.269   \n",
       "401  nytimes           2  Sat Nov 04 18:16:03 +0000 2017    0.3217     0.292   \n",
       "402  nytimes           3  Sat Nov 04 18:01:00 +0000 2017    0.5106     0.262   \n",
       "403  nytimes           4  Sat Nov 04 17:46:09 +0000 2017   -0.6249     0.000   \n",
       "404  nytimes           5  Sat Nov 04 17:31:05 +0000 2017    0.5719     0.198   \n",
       "\n",
       "     Negative  Neutral                                         Tweet Text  \n",
       "0       0.416    0.584  Man charged over death of Chloe Miazek in Aber...  \n",
       "1       0.000    0.800  Widower's bid to fulfil Hereford sweetheart's ...  \n",
       "2       0.000    1.000  RT @BBCSport: GOAL! West Ham 0-2 Liverpool\\n\\n...  \n",
       "3       0.000    1.000  Trump pitches for $2 trillion Saudi Aramco oil...  \n",
       "4       0.239    0.630  RT @BBCSport: There are some shocks around!\\n\\...  \n",
       "100     0.218    0.782  Police are investigating the death of a Florid...  \n",
       "101     0.000    1.000  Flights &amp; views that were once impossible ...  \n",
       "102     0.000    1.000  Hundreds of pieces of art are on display from ...  \n",
       "103     0.258    0.742  Las Vegas shooter Stephen Paddock had been dep...  \n",
       "104     0.000    1.000  WATCH: President Trump boards Air Force One as...  \n",
       "200     0.091    0.909  State Department asks US citizens to leave Som...  \n",
       "201     0.140    0.860  An undocumented special-needs girl who was in ...  \n",
       "202     0.363    0.637  American woman in Zimbabwe sent to prison afte...  \n",
       "203     0.000    0.778  Could Bernie Sanders have won a primary that w...  \n",
       "204     0.000    1.000  A 1975 CIA memo concluded that allegations Lee...  \n",
       "300     0.000    1.000  .@DanaRohrabacher: \"We have a president now wh...  \n",
       "301     0.000    1.000  TONIGHT on @GregGutfeldShow, @GregGutfeld talk...  \n",
       "302     0.000    0.632  Vet Refuses Award From NFL Team\\nhttps://t.co/...  \n",
       "303     0.000    1.000  .@kevincorke: \"The U.S. has a $51 billion trad...  \n",
       "304     0.000    1.000       .@POTUS's Asia trip. https://t.co/IUUrn1dw74  \n",
       "400     0.094    0.637  New York City is rich enough and comfortable e...  \n",
       "401     0.236    0.472  Opinion: Truly loving cats means hating yourse...  \n",
       "402     0.160    0.578  House Republicans are proposing a tax on wealt...  \n",
       "403     0.177    0.823  Detroit is still trying to recover after the 2...  \n",
       "404     0.000    0.802  9 weeks after Hurricane Harvey hit Texas, the ...  "
      ]
     },
     "execution_count": 20,
     "metadata": {},
     "output_type": "execute_result"
    }
   ],
   "source": [
    "news_org_group = sentiments_df.groupby(['User'])\n",
    "news_org_group.head()"
   ]
  },
  {
   "cell_type": "code",
   "execution_count": 21,
   "metadata": {},
   "outputs": [
    {
     "data": {
      "text/plain": [
       "User\n",
       "BBCNews   -0.146864\n",
       "CBSNews   -0.091346\n",
       "CNN       -0.029706\n",
       "FoxNews   -0.029121\n",
       "nytimes    0.048220\n",
       "Name: Compound, dtype: float64"
      ]
     },
     "execution_count": 21,
     "metadata": {},
     "output_type": "execute_result"
    }
   ],
   "source": [
    "compound_mean = news_org_group['Compound'].mean()\n",
    "compound_mean.head()"
   ]
  },
  {
   "cell_type": "code",
   "execution_count": 22,
   "metadata": {
    "collapsed": true
   },
   "outputs": [],
   "source": [
    "compound_mean_df = pd.DataFrame(compound_mean)\n",
    "#compound_mean_df = compound_mean_df.reset_index()\n"
   ]
  },
  {
   "cell_type": "code",
   "execution_count": 23,
   "metadata": {},
   "outputs": [
    {
     "data": {
      "text/html": [
       "<div>\n",
       "<style>\n",
       "    .dataframe thead tr:only-child th {\n",
       "        text-align: right;\n",
       "    }\n",
       "\n",
       "    .dataframe thead th {\n",
       "        text-align: left;\n",
       "    }\n",
       "\n",
       "    .dataframe tbody tr th {\n",
       "        vertical-align: top;\n",
       "    }\n",
       "</style>\n",
       "<table border=\"1\" class=\"dataframe\">\n",
       "  <thead>\n",
       "    <tr style=\"text-align: right;\">\n",
       "      <th></th>\n",
       "      <th>Compound</th>\n",
       "    </tr>\n",
       "    <tr>\n",
       "      <th>User</th>\n",
       "      <th></th>\n",
       "    </tr>\n",
       "  </thead>\n",
       "  <tbody>\n",
       "    <tr>\n",
       "      <th>BBCNews</th>\n",
       "      <td>-0.146864</td>\n",
       "    </tr>\n",
       "    <tr>\n",
       "      <th>CBSNews</th>\n",
       "      <td>-0.091346</td>\n",
       "    </tr>\n",
       "    <tr>\n",
       "      <th>CNN</th>\n",
       "      <td>-0.029706</td>\n",
       "    </tr>\n",
       "    <tr>\n",
       "      <th>FoxNews</th>\n",
       "      <td>-0.029121</td>\n",
       "    </tr>\n",
       "    <tr>\n",
       "      <th>nytimes</th>\n",
       "      <td>0.048220</td>\n",
       "    </tr>\n",
       "  </tbody>\n",
       "</table>\n",
       "</div>"
      ],
      "text/plain": [
       "         Compound\n",
       "User             \n",
       "BBCNews -0.146864\n",
       "CBSNews -0.091346\n",
       "CNN     -0.029706\n",
       "FoxNews -0.029121\n",
       "nytimes  0.048220"
      ]
     },
     "execution_count": 23,
     "metadata": {},
     "output_type": "execute_result"
    }
   ],
   "source": [
    "compound_mean_df.head()"
   ]
  },
  {
   "cell_type": "code",
   "execution_count": null,
   "metadata": {
    "collapsed": true
   },
   "outputs": [],
   "source": []
  },
  {
   "cell_type": "code",
   "execution_count": 24,
   "metadata": {},
   "outputs": [
    {
     "data": {
      "text/plain": [
       "<matplotlib.text.Text at 0x11fb20fd0>"
      ]
     },
     "execution_count": 24,
     "metadata": {},
     "output_type": "execute_result"
    }
   ],
   "source": [
    "compound_mean_df[\"Compound\"].plot.bar(figsize=(10,5), alpha=0.75, fontsize=12, color=\"rbygk\")\n",
    "\n",
    "plt.grid(True, linestyle='dashed')\n",
    "plt.axhline(0, color='k')\n",
    "plt.title(\"Overall Media Sentiment based on Twitter\")\n",
    "plt.ylabel(\"Tweet Polarity\")\n",
    "plt.xlabel(\"News Organization\")\n"
   ]
  },
  {
   "cell_type": "code",
   "execution_count": 25,
   "metadata": {},
   "outputs": [
    {
     "data": {
      "image/png": "[encoded data removed]",
      "text/plain": [
       "<matplotlib.figure.Figure at 0x11fb094a8>"
      ]
     },
     "metadata": {},
     "output_type": "display_data"
    }
   ],
   "source": [
    "plt.savefig('sentiment_analysis_of_media_tweets.png')\n",
    "plt.show()"
   ]
  },
  {
   "cell_type": "code",
   "execution_count": null,
   "metadata": {
    "collapsed": true
   },
   "outputs": [],
   "source": []
  }
 ],
 "metadata": {
  "kernelspec": {
   "display_name": "Python 3",
   "language": "python",
   "name": "python3"
  },
  "language_info": {
   "codemirror_mode": {
    "name": "ipython",
    "version": 3
   },
   "file_extension": ".py",
   "mimetype": "text/x-python",
   "name": "python",
   "nbconvert_exporter": "python",
   "pygments_lexer": "ipython3",
   "version": "3.6.1"
  }
 },
 "nbformat": 4,
 "nbformat_minor": 2
}
